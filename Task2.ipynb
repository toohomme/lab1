{
 "cells": [
  {
   "cell_type": "code",
   "execution_count": 26,
   "id": "e8e4b9f5",
   "metadata": {},
   "outputs": [
    {
     "name": "stdout",
     "output_type": "stream",
     "text": [
      "[0.26083453]\n",
      "[0.61129946]\n",
      "[1.74398607] [0.60218313] 190.60979482748803\n"
     ]
    },
    {
     "data": {
      "text/plain": [
       "<matplotlib.collections.PathCollection at 0x2482d214700>"
      ]
     },
     "execution_count": 26,
     "metadata": {},
     "output_type": "execute_result"
    },
    {
     "data": {
      "image/png": "[encoded data removed]",
      "text/plain": [
       "<Figure size 432x288 with 1 Axes>"
      ]
     },
     "metadata": {
      "needs_background": "light"
     },
     "output_type": "display_data"
    }
   ],
   "source": [
    "def model (a,b,x):\n",
    "    return a * x + b\n",
    "\n",
    "def loss_function(a,b,x,y):\n",
    "    num = len(x)\n",
    "    prediction = model(a,b,x)\n",
    "    return (0.5/num)*(np.square(prediction-y)).sum()\n",
    "\n",
    "def optimize (a,b,x,y):\n",
    "    num = len(x)\n",
    "    prediction = model(a,b,x)\n",
    "    da = (1.0/num)*((prediction - y)*x).sum()\n",
    "    db = (1.0/num)*((prediction - y).sum())\n",
    "    a = a - Lr*da\n",
    "    b = b - Lr*db\n",
    "    return a,b\n",
    "\n",
    "def iterate(a,b,x,y,times):\n",
    "    for i in range(times):\n",
    "        a,b = optimize(a,b,x,y)\n",
    "    return a,b\n",
    "    \n",
    "import numpy as np\n",
    "import matplotlib.pyplot as plt\n",
    "%matplotlib inline\n",
    "Lr = 0.000001\n",
    "x = [3,21,22,34,54,34,55,67,89,99]\n",
    "x = np.array(x)\n",
    "y = [2,22,24,65,79,82,55,130,150,199]\n",
    "y = np.array(y)\n",
    "a = np.random.rand(1)\n",
    "print(a)\n",
    "b = np.random.rand(1)\n",
    "print(b)\n",
    "\n",
    "a,b = iterate(a,b,x,y,10000)\n",
    "prediction = model(a,b,x)\n",
    "loss = loss_function(a,b,x,y)\n",
    "print(a,b,loss)\n",
    "plt.scatter(x,y)\n",
    "plt.plot(x,prediction)\n",
    "\n",
    "plt.scatter(x,y)\n"
   ]
  },
  {
   "cell_type": "code",
   "execution_count": null,
   "id": "740d7874",
   "metadata": {},
   "outputs": [],
   "source": []
  }
 ],
 "metadata": {
  "kernelspec": {
   "display_name": "Python 3 (ipykernel)",
   "language": "python",
   "name": "python3"
  },
  "language_info": {
   "codemirror_mode": {
    "name": "ipython",
    "version": 3
   },
   "file_extension": ".py",
   "mimetype": "text/x-python",
   "name": "python",
   "nbconvert_exporter": "python",
   "pygments_lexer": "ipython3",
   "version": "3.9.12"
  }
 },
 "nbformat": 4,
 "nbformat_minor": 5
}
